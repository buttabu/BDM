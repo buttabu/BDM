{
 "cells": [
  {
   "cell_type": "code",
   "execution_count": 1,
   "metadata": {},
   "outputs": [
    {
     "data": {
      "text/plain": [
       "<pyspark.context.SparkContext at 0x110e94d90>"
      ]
     },
     "execution_count": 1,
     "metadata": {},
     "output_type": "execute_result"
    }
   ],
   "source": [
    "sc"
   ]
  },
  {
   "cell_type": "code",
   "execution_count": 2,
   "metadata": {
    "collapsed": true
   },
   "outputs": [],
   "source": [
    "import rtree\n",
    "import datetime\n",
    "import operator\n",
    "import os\n",
    "import sys\n",
    "import time\n",
    "import pyspark\n",
    "from operator import add\n",
    "import numpy as np\n",
    "import matplotlib.path as mplPath\n",
    "start = time.time()"
   ]
  },
  {
   "cell_type": "code",
   "execution_count": 3,
   "metadata": {
    "collapsed": true
   },
   "outputs": [],
   "source": [
    "def geojson_create(filename,data):\n",
    "    import json\n",
    "    coordinatesList = {}\n",
    "    with open ('block-groups-polygons.geojson') as dataFile:\n",
    "        blockData = json.load(dataFile)\n",
    "    count = 0\n",
    "    for i in data:\n",
    "        for block in blockData['features']:\n",
    "            if i == block['properties']['OBJECTID']:\n",
    "                coordinatesList[count] = [block['geometry'],block['properties']]\n",
    "                count+=1\n",
    "\n",
    "    template = \\\n",
    "        ''' \\\n",
    "        { \"type\" : \"Feature\",\n",
    "            \"id\" : %s,\n",
    "            \"properties\" : %s,\n",
    "            \"geometry\" : %s\n",
    "            },\n",
    "        '''\n",
    "\n",
    "    # the head of the geojson file\n",
    "    output = \\\n",
    "        ''' \\\n",
    "    { \"type\" : \"FeatureCollection\",\n",
    "        \"features\" : [\n",
    "        '''\n",
    "\n",
    "    for k,v in coordinatesList.iteritems():\n",
    "        output += template % (k,json.dumps(v[1]),json.dumps(v[0]))\n",
    "\n",
    "    # the tail of the geojson file\n",
    "    output += \\\n",
    "        ''' \\\n",
    "        ]\n",
    "    }\n",
    "        '''\n",
    "\n",
    "    # opens an geoJSON file to write the output to\n",
    "    outFileHandle = open(filename+\".geojson\", \"w\")\n",
    "    outFileHandle.write(output)\n",
    "    outFileHandle.close()"
   ]
  },
  {
   "cell_type": "code",
   "execution_count": 4,
   "metadata": {
    "collapsed": true
   },
   "outputs": [],
   "source": [
    "def indexZones(shapeFilename):\n",
    "    import rtree\n",
    "    import fiona.crs\n",
    "    import geopandas as gpd\n",
    "    index = rtree.Rtree()\n",
    "    zones = gpd.read_file(shapeFilename).to_crs(fiona.crs.from_epsg(2263))\n",
    "    for idx,geometry in enumerate(zones.geometry):\n",
    "        index.insert(idx, geometry.bounds)\n",
    "    return (index, zones)\n",
    "\n",
    "def find_Block(p, index, zones):\n",
    "    match = index.intersection((p.x, p.y, p.x, p.y))\n",
    "    for idx in match:\n",
    "        z = mplPath.Path(np.array(zones.geometry[idx].exterior))\n",
    "        if z.contains_point(np.array(p)):\n",
    "            return zones['OBJECTID'][idx]\n",
    "    return -1\n",
    "\n",
    "def find_Borough(p, index, zones):\n",
    "    match = index.intersection((p.x, p.y, p.x, p.y))\n",
    "    for idx in match:\n",
    "        if any(map(lambda x: x.contains(p), zones.geometry[idx])):\n",
    "            return zones['boroname'][idx]\n",
    "    return -1"
   ]
  },
  {
   "cell_type": "code",
   "execution_count": 5,
   "metadata": {
    "collapsed": true
   },
   "outputs": [],
   "source": [
    "def mapToZone(parts):\n",
    "    import pyproj\n",
    "    import shapely.geometry as geom\n",
    "    proj = pyproj.Proj(init=\"epsg:2263\", preserve_units=True)    \n",
    "    index, zones = indexZones('block-groups-polygons-simple.geojson')\n",
    "    index2, zones2 = indexZones('boroughs.geojson')\n",
    "    for line in parts:\n",
    "        if line.startswith('vendor_id'): continue \n",
    "        fields = line.strip('').split(',')\n",
    "        if fields ==['']: continue\n",
    "        if all((fields[5],fields[6],fields[9],fields[10])) and float(fields[4])<=2:\n",
    "            pickup_location  = geom.Point(proj(float(fields[5]), float(fields[6])))\n",
    "            dropoff_location = geom.Point(proj(float(fields[9]), float(fields[10])))\n",
    "            pickup_block = find_Block(pickup_location, index, zones)\n",
    "            dropoff_block = find_Block(dropoff_location, index, zones)\n",
    "            pickup_borough = find_Borough(pickup_location, index2, zones2)\n",
    "            dropoff_borough = find_Borough(dropoff_location, index2, zones2)\n",
    "            if pickup_block>=0 and pickup_borough>0 and dropoff_block>0 and dropoff_borough>0:#np.array(pickup_block.exterior)\n",
    "                yield (pickup_block,pickup_borough,dropoff_block,dropoff_borough)\n",
    "                \n",
    "                \n",
    "def mapper2(k2v2):\n",
    "    from heapq import nlargest\n",
    "    k, values = k2v2\n",
    "    top10 = nlargest(10, values, lambda x:x[1])\n",
    "    return (k,top10)"
   ]
  },
  {
   "cell_type": "code",
   "execution_count": 6,
   "metadata": {},
   "outputs": [
    {
     "name": "stdout",
     "output_type": "stream",
     "text": [
      "[(5439, u'Bronx', 5287, u'Bronx'), (9321, u'Manhattan', 9470, u'Manhattan'), (9000, u'Manhattan', 9572, u'Manhattan'), (8989, u'Manhattan', 9014, u'Manhattan'), (9723, u'Manhattan', 10086, u'Manhattan'), (9394, u'Manhattan', 9192, u'Manhattan'), (10136, u'Manhattan', 9066, u'Manhattan'), (9627, u'Manhattan', 9247, u'Manhattan'), (9326, u'Manhattan', 9055, u'Manhattan'), (9027, u'Manhattan', 9549, u'Manhattan')]\n",
      "4.14784815311\n"
     ]
    }
   ],
   "source": [
    "trips = sc.textFile('../yellow_tripdata_2012-07.csv')\n",
    "#trips = sc.textFile('../yellow_tripdata_2014-07.csv')\n",
    "\n",
    "output = sc.parallelize(mapToZone(trips.take(20000)))\n",
    "print output.take(10)\n",
    "print (time.time()-start)/60.0"
   ]
  },
  {
   "cell_type": "code",
   "execution_count": 7,
   "metadata": {
    "collapsed": true
   },
   "outputs": [],
   "source": [
    "pickup = output.map(lambda x: ((x[0],x[1]),1)).reduceByKey(lambda x,y: x+y).map(lambda x:(x[0][1], (x[0][0],x[1]))).groupByKey().map(mapper2)\n",
    "pickup.collect()\n",
    "dropoff = output.map(lambda x: ((x[2],x[3]),1)).reduceByKey(lambda x,y: x+y).map(lambda x:(x[0][1], (x[0][0],x[1]))).groupByKey().map(mapper2)"
   ]
  },
  {
   "cell_type": "code",
   "execution_count": 8,
   "metadata": {},
   "outputs": [
    {
     "data": {
      "text/plain": [
       "[(u'Bronx',\n",
       "  [(6214, 1),\n",
       "   (6118, 1),\n",
       "   (5835, 1),\n",
       "   (6223, 1),\n",
       "   (5439, 1),\n",
       "   (5267, 1),\n",
       "   (6219, 1),\n",
       "   (5376, 1),\n",
       "   (5888, 1),\n",
       "   (5889, 1)]),\n",
       " (u'Manhattan',\n",
       "  [(9144, 248),\n",
       "   (8986, 144),\n",
       "   (9052, 142),\n",
       "   (9493, 130),\n",
       "   (9245, 118),\n",
       "   (9139, 105),\n",
       "   (9594, 99),\n",
       "   (9509, 81),\n",
       "   (9085, 80),\n",
       "   (9365, 77)]),\n",
       " (u'Brooklyn',\n",
       "  [(12349, 7),\n",
       "   (12860, 5),\n",
       "   (12756, 5),\n",
       "   (11291, 5),\n",
       "   (12043, 5),\n",
       "   (12757, 4),\n",
       "   (12882, 4),\n",
       "   (11331, 4),\n",
       "   (11292, 3),\n",
       "   (12736, 3)]),\n",
       " (u'Staten Island', [(7649, 1)]),\n",
       " (u'Queens',\n",
       "  [(2281, 27),\n",
       "   (3722, 13),\n",
       "   (2282, 8),\n",
       "   (3431, 5),\n",
       "   (2169, 5),\n",
       "   (2165, 4),\n",
       "   (3023, 3),\n",
       "   (2815, 3),\n",
       "   (3147, 3),\n",
       "   (2371, 3)])]"
      ]
     },
     "execution_count": 8,
     "metadata": {},
     "output_type": "execute_result"
    }
   ],
   "source": [
    "pickup.collect()"
   ]
  },
  {
   "cell_type": "code",
   "execution_count": 9,
   "metadata": {},
   "outputs": [
    {
     "data": {
      "text/plain": [
       "[(u'Bronx',\n",
       "  [(6198, 1),\n",
       "   (5486, 1),\n",
       "   (5194, 1),\n",
       "   (5398, 1),\n",
       "   (5282, 1),\n",
       "   (6039, 1),\n",
       "   (6123, 1),\n",
       "   (6223, 1),\n",
       "   (5287, 1),\n",
       "   (6219, 1)]),\n",
       " (u'Manhattan',\n",
       "  [(9144, 359),\n",
       "   (9139, 146),\n",
       "   (8986, 137),\n",
       "   (9493, 132),\n",
       "   (9245, 116),\n",
       "   (9143, 115),\n",
       "   (9052, 103),\n",
       "   (9509, 97),\n",
       "   (9023, 97),\n",
       "   (9608, 85)]),\n",
       " (u'Brooklyn',\n",
       "  [(12049, 6),\n",
       "   (12750, 6),\n",
       "   (12856, 4),\n",
       "   (12349, 3),\n",
       "   (12730, 3),\n",
       "   (11290, 3),\n",
       "   (12746, 3),\n",
       "   (11459, 3),\n",
       "   (11023, 3),\n",
       "   (12044, 2)]),\n",
       " (u'Staten Island', [(7649, 1)]),\n",
       " (u'Queens',\n",
       "  [(2281, 20),\n",
       "   (3722, 12),\n",
       "   (2282, 8),\n",
       "   (3431, 5),\n",
       "   (2169, 4),\n",
       "   (2388, 4),\n",
       "   (2562, 3),\n",
       "   (2167, 2),\n",
       "   (2691, 2),\n",
       "   (2395, 2)])]"
      ]
     },
     "execution_count": 9,
     "metadata": {},
     "output_type": "execute_result"
    }
   ],
   "source": [
    "dropoff.collect()"
   ]
  },
  {
   "cell_type": "code",
   "execution_count": 17,
   "metadata": {
    "collapsed": true
   },
   "outputs": [],
   "source": []
  },
  {
   "cell_type": "code",
   "execution_count": null,
   "metadata": {
    "collapsed": true
   },
   "outputs": [],
   "source": []
  }
 ],
 "metadata": {
  "kernelspec": {
   "display_name": "Python 2",
   "language": "python",
   "name": "python2"
  },
  "language_info": {
   "codemirror_mode": {
    "name": "ipython",
    "version": 2
   },
   "file_extension": ".py",
   "mimetype": "text/x-python",
   "name": "python",
   "nbconvert_exporter": "python",
   "pygments_lexer": "ipython2",
   "version": "2.7.14"
  }
 },
 "nbformat": 4,
 "nbformat_minor": 2
}
