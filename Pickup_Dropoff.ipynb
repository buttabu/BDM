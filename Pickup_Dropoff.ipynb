{
 "cells": [
  {
   "cell_type": "code",
   "execution_count": 1,
   "metadata": {},
   "outputs": [
    {
     "data": {
      "text/plain": [
       "<pyspark.context.SparkContext at 0x10e1fbd90>"
      ]
     },
     "execution_count": 1,
     "metadata": {},
     "output_type": "execute_result"
    }
   ],
   "source": [
    "sc"
   ]
  },
  {
   "cell_type": "code",
   "execution_count": 2,
   "metadata": {
    "collapsed": true
   },
   "outputs": [],
   "source": [
    "import datetime\n",
    "import operator\n",
    "import os\n",
    "import sys\n",
    "import time\n",
    "from operator import add\n",
    "import numpy as np\n",
    "import matplotlib.path as mplPath"
   ]
  },
  {
   "cell_type": "code",
   "execution_count": 3,
   "metadata": {
    "collapsed": true
   },
   "outputs": [],
   "source": [
    "def geojson_create(filename,data):\n",
    "    import json\n",
    "    coordinatesList = {}\n",
    "    with open ('block-groups-polygons-simple.geojson') as dataFile:\n",
    "        blockData = json.load(dataFile)\n",
    "    count = 0\n",
    "    for i in data:\n",
    "        for block in blockData['features']:\n",
    "            if i == block['properties']['OBJECTID']:\n",
    "                coordinatesList[count] = [block['geometry'],block['properties']]\n",
    "                count+=1\n",
    "\n",
    "    template =         '''         { \"type\" : \"Feature\",\n",
    "            \"id\" : %s,\n",
    "            \"properties\" : %s,\n",
    "            \"geometry\" : %s\n",
    "            },\n",
    "        '''\n",
    "\n",
    "    # the head of the geojson file\n",
    "    output =         '''     { \"type\" : \"FeatureCollection\",\n",
    "        \"features\" : [\n",
    "        '''\n",
    "\n",
    "    for k,v in coordinatesList.iteritems():\n",
    "        output += template % (k,json.dumps(v[1]),json.dumps(v[0]))\n",
    "\n",
    "    # the tail of the geojson file\n",
    "    output +=         '''         ]\n",
    "    }\n",
    "        '''\n",
    "\n",
    "    # opens an geoJSON file to write the output to\n",
    "    outFileHandle = open(filename+\".geojson\", \"w\")\n",
    "    outFileHandle.write(output)\n",
    "    outFileHandle.close()"
   ]
  },
  {
   "cell_type": "code",
   "execution_count": 4,
   "metadata": {
    "collapsed": true
   },
   "outputs": [],
   "source": [
    "def indexZones(shapeFilename):\n",
    "    import rtree\n",
    "    import fiona.crs\n",
    "    import geopandas as gpd\n",
    "    index = rtree.Rtree()\n",
    "    zones = gpd.read_file(shapeFilename).to_crs(fiona.crs.from_epsg(2263))\n",
    "    for idx,geometry in enumerate(zones.geometry):\n",
    "        index.insert(idx, geometry.bounds)\n",
    "    return (index, zones)\n",
    "\n",
    "def find_Block(p, index, zones):\n",
    "    match = index.intersection((p.x, p.y, p.x, p.y))\n",
    "    for idx in match:\n",
    "        z = mplPath.Path(np.array(zones.geometry[idx].exterior))\n",
    "        if z.contains_point(np.array(p)):\n",
    "            return zones['OBJECTID'][idx]\n",
    "    return -1\n",
    "\n",
    "def find_Borough(p, index, zones):\n",
    "    match = index.intersection((p.x, p.y, p.x, p.y))\n",
    "    for idx in match:\n",
    "        if any(map(lambda x: x.contains(p), zones.geometry[idx])):\n",
    "            return zones['boroname'][idx]\n",
    "    return -1"
   ]
  },
  {
   "cell_type": "code",
   "execution_count": 10,
   "metadata": {
    "collapsed": true
   },
   "outputs": [],
   "source": [
    "def pick_mapToZone(parts):\n",
    "    import pyproj\n",
    "    import shapely.geometry as geom\n",
    "    proj = pyproj.Proj(init=\"epsg:2263\", preserve_units=True)    \n",
    "    index, zones = indexZones('block-groups-polygons-simple.geojson')\n",
    "    index2, zones2 = indexZones('boroughs.geojson')\n",
    "    for line in parts:\n",
    "        if line.startswith('vendor_id'): continue \n",
    "        fields = line.strip('').split(',')\n",
    "        if fields ==['']: continue\n",
    "        if all((fields[5],fields[6],fields[9],fields[10])) and float(fields[4])<=2:\n",
    "            pickup_location  = geom.Point(proj(float(fields[5]), float(fields[6])))\n",
    "            pickup_block = find_Block(pickup_location, index, zones)\n",
    "            pickup_borough = find_Borough(pickup_location, index2, zones2)\n",
    "            if pickup_block>=0 and pickup_borough>0 :#np.array(pickup_block.exterior)\n",
    "                yield (pickup_block,pickup_borough)"
   ]
  },
  {
   "cell_type": "code",
   "execution_count": 11,
   "metadata": {
    "collapsed": true
   },
   "outputs": [],
   "source": [
    "def drop_mapToZone(parts):\n",
    "    import pyproj\n",
    "    import shapely.geometry as geom\n",
    "    proj = pyproj.Proj(init=\"epsg:2263\", preserve_units=True)    \n",
    "    index, zones = indexZones('block-groups-polygons-simple.geojson')\n",
    "    index2, zones2 = indexZones('boroughs.geojson')\n",
    "    for line in parts:\n",
    "        if line.startswith('vendor_id'): continue \n",
    "        fields = line.strip('').split(',')\n",
    "        if fields ==['']: continue\n",
    "        if all((fields[5],fields[6],fields[9],fields[10])) and float(fields[4])<=2:\n",
    "            drop_location  = geom.Point(proj(float(fields[9]), float(fields[10])))\n",
    "            drop_block = find_Block(drop_location, index, zones)\n",
    "            drop_borough = find_Borough(drop_location, index2, zones2)\n",
    "            if drop_block>=0 and drop_borough>0 :\n",
    "                yield (drop_block,drop_borough)"
   ]
  },
  {
   "cell_type": "code",
   "execution_count": 12,
   "metadata": {},
   "outputs": [
    {
     "name": "stdout",
     "output_type": "stream",
     "text": [
      "[((9245, u'Manhattan'), 9), ((9052, u'Manhattan'), 9), ((9560, u'Manhattan'), 7), ((9394, u'Manhattan'), 7), ((9612, u'Manhattan'), 6), ((9085, u'Manhattan'), 5), ((9564, u'Manhattan'), 5), ((9650, u'Manhattan'), 5), ((9593, u'Manhattan'), 4), ((9509, u'Manhattan'), 4), ((3147, u'Queens'), 1), ((3431, u'Queens'), 1), ((2815, u'Queens'), 1), ((2281, u'Queens'), 1), ((5439, u'Bronx'), 1), ((5888, u'Bronx'), 1), ((12860, u'Brooklyn'), 1), ((12756, u'Brooklyn'), 1), ((11224, u'Brooklyn'), 1), ((11292, u'Brooklyn'), 1), ((12856, u'Brooklyn'), 1), ((12556, u'Brooklyn'), 1), ((12608, u'Brooklyn'), 1), ((12061, u'Brooklyn'), 1), ((12054, u'Brooklyn'), 1), ((12158, u'Brooklyn'), 1)]\n"
     ]
    }
   ],
   "source": [
    "if __name__=='__main__':\n",
    "    \n",
    "    trips = sc.textFile('../yellow_tripdata_2012-07.csv')\n",
    "#     trips = sc.textFile('../yellow_tripdata_2014-07.csv')\n",
    "\n",
    "    pickup = sc.parallelize(pick_mapToZone(trips.take(1000)))\n",
    "    pickup = pickup.map(lambda x: (x,1)).reduceByKey(lambda x,y: x+y)\n",
    "    pickup_M = pickup.filter(lambda x: x[0][1] == \"Manhattan\").takeOrdered(10, lambda x: -x[1])\n",
    "    pickup_Q = pickup.filter(lambda x: x[0][1] == \"Queens\").takeOrdered(10, lambda x: -x[1])\n",
    "    pickup_Bx = pickup.filter(lambda x: x[0][1] == \"Bronx\").takeOrdered(10, lambda x: -x[1])\n",
    "    pickup_Bk = pickup.filter(lambda x: x[0][1] == \"Brooklyn\").takeOrdered(10, lambda x: -x[1])\n",
    "    pickup_SI = pickup.filter(lambda x: x[0][1] == \"Staten Island\").takeOrdered(10, lambda x: -x[1])\n",
    "    pickup_all = sc.parallelize(pickup_M+pickup_Q+pickup_Bx+pickup_Bk+pickup_SI)\n",
    "\n",
    "    dropoff = sc.parallelize(drop_mapToZone(trips.take(5000)))\n",
    "    dropoff = pickup.map(lambda x: (x,1)).reduceByKey(lambda x,y: x+y)\n",
    "    dropoff_M = dropoff.filter(lambda x: x[0][1] == \"Manhattan\").takeOrdered(10, lambda x: -x[1])\n",
    "    dropoff_Q = dropoff.filter(lambda x: x[0][1] == \"Queens\").takeOrdered(10, lambda x: -x[1])\n",
    "    dropoff_Bx = dropoff.filter(lambda x: x[0][1] == \"Bronx\").takeOrdered(10, lambda x: -x[1])\n",
    "    dropoff_Bk = dropoff.filter(lambda x: x[0][1] == \"Brooklyn\").takeOrdered(10, lambda x: -x[1])\n",
    "    dropoff_SI = dropoff.filter(lambda x: x[0][1] == \"Staten Island\").takeOrdered(10, lambda x: -x[1])\n",
    "    dropoff_all = sc.parallelize(pickup_M+pickup_Q+pickup_Bx+pickup_Bk+pickup_SI)\n",
    "    print dropoff_all.collect()"
   ]
  },
  {
   "cell_type": "code",
   "execution_count": 18,
   "metadata": {},
   "outputs": [],
   "source": [
    "geojson_create(\"Pickup_Map\",pickup_all.map(lambda x: x[0][0]).collect())\n",
    "geojson_create(\"Dropoff_Map\",dropoff_all.map(lambda x: x[0][0]).collect())"
   ]
  },
  {
   "cell_type": "code",
   "execution_count": null,
   "metadata": {
    "collapsed": true
   },
   "outputs": [],
   "source": []
  }
 ],
 "metadata": {
  "kernelspec": {
   "display_name": "Python 2",
   "language": "python",
   "name": "python2"
  },
  "language_info": {
   "codemirror_mode": {
    "name": "ipython",
    "version": 2
   },
   "file_extension": ".py",
   "mimetype": "text/x-python",
   "name": "python",
   "nbconvert_exporter": "python",
   "pygments_lexer": "ipython2",
   "version": "2.7.14"
  }
 },
 "nbformat": 4,
 "nbformat_minor": 2
}
