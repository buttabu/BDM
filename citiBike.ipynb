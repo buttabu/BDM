{
 "cells": [
  {
   "cell_type": "code",
   "execution_count": 1,
   "metadata": {},
   "outputs": [
    {
     "data": {
      "text/plain": [
       "<pyspark.context.SparkContext at 0x10ad55d90>"
      ]
     },
     "execution_count": 1,
     "metadata": {},
     "output_type": "execute_result"
    }
   ],
   "source": [
    "sc"
   ]
  },
  {
   "cell_type": "code",
   "execution_count": 2,
   "metadata": {
    "collapsed": true
   },
   "outputs": [],
   "source": [
    "import datetime\n",
    "import operator\n",
    "import os\n",
    "import sys\n",
    "import time\n",
    "import pyspark\n",
    "from operator import add\n",
    "from math import radians, cos, sin, asin, sqrt\n",
    "start = time.time()"
   ]
  },
  {
   "cell_type": "code",
   "execution_count": 3,
   "metadata": {
    "collapsed": true
   },
   "outputs": [],
   "source": [
    "def indexZones(shapeFilename):\n",
    "    import rtree\n",
    "    import fiona.crs\n",
    "    import geopandas as gpd\n",
    "    index = rtree.Rtree()\n",
    "    zones = gpd.read_file(shapeFilename).to_crs(fiona.crs.from_epsg(2263))\n",
    "    for idx,geometry in enumerate(zones.geometry):\n",
    "        index.insert(idx, geometry.bounds)\n",
    "    return (index, zones)\n",
    "\n",
    "def find_Neighborhood(p, index, zones):\n",
    "    match = index.intersection((p.x, p.y, p.x, p.y))\n",
    "    for idx in match:\n",
    "        if any(map(lambda x: x.contains(p), zones.geometry[idx])):\n",
    "            return zones['neighborhood'][idx]\n",
    "    return -1"
   ]
  },
  {
   "cell_type": "code",
   "execution_count": 4,
   "metadata": {
    "collapsed": true
   },
   "outputs": [],
   "source": [
    "def mapToZone(parts):\n",
    "    import pyproj\n",
    "    import shapely.geometry as geom\n",
    "    proj = pyproj.Proj(init=\"epsg:2263\", preserve_units=True)    \n",
    "    index, zones = indexZones('neighborhoods.geojson')\n",
    "    \n",
    "    for line in parts[1:]:\n",
    "        fields = line.strip('').split(',')\n",
    "        if fields ==['']: continue\n",
    "        if all((fields[5],fields[6],fields[9],fields[10])):\n",
    "            for i in [5,6,9,10]:\n",
    "                fields[i] = fields[i].strip('').split(\"\\\"\")[1]\n",
    "            pickup_location  = geom.Point(proj(float(fields[6]), float(fields[5])))\n",
    "            dropoff_location = geom.Point(proj(float(fields[10]), float(fields[9])))\n",
    "            pickup_zone = find_Neighborhood(pickup_location, index, zones)\n",
    "            dropoff_zone = find_Neighborhood(dropoff_location, index, zones)\n",
    "\n",
    "            if pickup_zone>=0 and dropoff_zone>=0:\n",
    "                yield ((dropoff_zone, pickup_zone), 1)"
   ]
  },
  {
   "cell_type": "code",
   "execution_count": 8,
   "metadata": {},
   "outputs": [
    {
     "name": "stdout",
     "output_type": "stream",
     "text": [
      "3.09041475058\n"
     ]
    }
   ],
   "source": [
    "\n",
    "trips  =  sc.textFile('../CitiBike.csv')\n",
    "output = trips.mapPartitions(mapToZone)\n",
    "output = mapToZone(trips.take(100))\n",
    "output1 = sc.parallelize(output)\n",
    "print (time.time()-start)/60.0"
   ]
  },
  {
   "cell_type": "code",
   "execution_count": null,
   "metadata": {
    "collapsed": true
   },
   "outputs": [],
   "source": []
  }
 ],
 "metadata": {
  "kernelspec": {
   "display_name": "Python 2",
   "language": "python",
   "name": "python2"
  },
  "language_info": {
   "codemirror_mode": {
    "name": "ipython",
    "version": 2
   },
   "file_extension": ".py",
   "mimetype": "text/x-python",
   "name": "python",
   "nbconvert_exporter": "python",
   "pygments_lexer": "ipython2",
   "version": "2.7.14"
  }
 },
 "nbformat": 4,
 "nbformat_minor": 2
}
