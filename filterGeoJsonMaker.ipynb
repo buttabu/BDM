{
 "cells": [
  {
   "cell_type": "code",
   "execution_count": 1,
   "metadata": {},
   "outputs": [
    {
     "data": {
      "text/plain": [
       "<pyspark.context.SparkContext at 0x107cd7d90>"
      ]
     },
     "execution_count": 1,
     "metadata": {},
     "output_type": "execute_result"
    }
   ],
   "source": [
    "sc"
   ]
  },
  {
   "cell_type": "code",
   "execution_count": 2,
   "metadata": {
    "collapsed": true
   },
   "outputs": [],
   "source": [
    "import datetime\n",
    "import operator\n",
    "import os\n",
    "import sys\n",
    "import time\n",
    "import pyspark\n",
    "from operator import add\n",
    "import numpy as np\n",
    "import matplotlib.path as mplPath\n",
    "from heapq import nlargest\n",
    "start = time.time()"
   ]
  },
  {
   "cell_type": "code",
   "execution_count": 3,
   "metadata": {
    "collapsed": true
   },
   "outputs": [],
   "source": [
    "def geojson_create(filename,data):\n",
    "    coordinatesList = {}\n",
    "    count = 0\n",
    "    import json\n",
    "    with open ('block-groups-polygons.geojson') as dataFile:\n",
    "        blockData = json.load(dataFile)\n",
    "    for i in data:\n",
    "        for block in blockData['features']:\n",
    "            if int(i) == block['properties']['OBJECTID']:\n",
    "                coordinatesList[count] = [block['geometry'],block['properties']]\n",
    "                count+=1\n",
    "        \n",
    "    template =             '''             { \"type\" : \"Feature\",\n",
    "                \"id\" : %s,\n",
    "                \"properties\" : %s,\n",
    "                \"geometry\" : %s\n",
    "                },\n",
    "            '''\n",
    "\n",
    "    # the head of the geojson file\n",
    "    output =         '''     { \"type\" : \"FeatureCollection\",\n",
    "        \"features\" : [\n",
    "        '''\n",
    "            \n",
    "    for k,v in coordinatesList.iteritems():\n",
    "        output += template % (k,json.dumps(v[1]),json.dumps(v[0]))\n",
    "\n",
    "    # the tail of the geojson file\n",
    "    output +=         '''         ]\n",
    "    }\n",
    "        '''\n",
    "\n",
    "    #opens an geoJSON file to write the output to\n",
    "    outFileHandle = open(filename+\".geojson\", \"w\")\n",
    "    outFileHandle.write(output)\n",
    "    outFileHandle.close()"
   ]
  },
  {
   "cell_type": "code",
   "execution_count": null,
   "metadata": {
    "collapsed": true
   },
   "outputs": [],
   "source": [
    "import re\n",
    "data = [line.strip() for line in open(\"../citibike-stations.txt\", 'r')]\n",
    "data1 = [line.strip() for line in open(\"../yellow_tripdata_2012-07.txt\", 'r')]\n",
    "data2 = [line.strip() for line in open(\"../yellow_tripdata_2014-07.txt\", 'r')]\n",
    "data1 = [re.findall(r\"[\\w']+\", line) for line in data1]\n",
    "data2 = [re.findall(r\"[\\w']+\", line) for line in data2]\n",
    "\n",
    "list_tupple = []\n",
    "for x in data1:\n",
    "    it = iter(x[1:])\n",
    "    list_tupple.append(zip(it, it))\n",
    "\n",
    "for x in data2:\n",
    "    it = iter(x[1:])\n",
    "    list_tupple.append(zip(it, it))\n",
    "\n",
    "object_id = []\n",
    "for tupple in list_tupple:\n",
    "    for item in tupple:\n",
    "        object_id.append(item[0])\n",
    "\n",
    "for x in data:\n",
    "    if x in object_id:\n",
    "        object_id.remove(x)\n",
    "    \n",
    "print len(object_id)\n",
    "geojson_create(\"Filter_2012_2014\", object_id)\n",
    "print (time.time()-start)/60.0"
   ]
  },
  {
   "cell_type": "code",
   "execution_count": null,
   "metadata": {
    "collapsed": true
   },
   "outputs": [],
   "source": []
  }
 ],
 "metadata": {
  "kernelspec": {
   "display_name": "Python 2",
   "language": "python",
   "name": "python2"
  },
  "language_info": {
   "codemirror_mode": {
    "name": "ipython",
    "version": 2
   },
   "file_extension": ".py",
   "mimetype": "text/x-python",
   "name": "python",
   "nbconvert_exporter": "python",
   "pygments_lexer": "ipython2",
   "version": "2.7.14"
  }
 },
 "nbformat": 4,
 "nbformat_minor": 2
}
